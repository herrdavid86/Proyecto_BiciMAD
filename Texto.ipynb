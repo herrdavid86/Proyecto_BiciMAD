{
 "cells": [
  {
   "cell_type": "code",
   "execution_count": 6,
   "id": "63c476ef",
   "metadata": {},
   "outputs": [
    {
     "name": "stdout",
     "output_type": "stream",
     "text": [
      "Requirement already satisfied: streamlit in c:\\users\\projectsupport\\documents\\david\\cursos\\proyecto bicimad\\.venv\\lib\\site-packages (1.45.1)\n",
      "Requirement already satisfied: altair<6,>=4.0 in c:\\users\\projectsupport\\documents\\david\\cursos\\proyecto bicimad\\.venv\\lib\\site-packages (from streamlit) (5.5.0)\n",
      "Requirement already satisfied: blinker<2,>=1.5.0 in c:\\users\\projectsupport\\documents\\david\\cursos\\proyecto bicimad\\.venv\\lib\\site-packages (from streamlit) (1.9.0)\n",
      "Requirement already satisfied: cachetools<6,>=4.0 in c:\\users\\projectsupport\\documents\\david\\cursos\\proyecto bicimad\\.venv\\lib\\site-packages (from streamlit) (5.5.2)\n",
      "Requirement already satisfied: click<9,>=7.0 in c:\\users\\projectsupport\\documents\\david\\cursos\\proyecto bicimad\\.venv\\lib\\site-packages (from streamlit) (8.2.1)\n",
      "Requirement already satisfied: numpy<3,>=1.23 in c:\\users\\projectsupport\\documents\\david\\cursos\\proyecto bicimad\\.venv\\lib\\site-packages (from streamlit) (2.2.6)\n",
      "Requirement already satisfied: packaging<25,>=20 in c:\\users\\projectsupport\\documents\\david\\cursos\\proyecto bicimad\\.venv\\lib\\site-packages (from streamlit) (24.2)\n",
      "Requirement already satisfied: pandas<3,>=1.4.0 in c:\\users\\projectsupport\\documents\\david\\cursos\\proyecto bicimad\\.venv\\lib\\site-packages (from streamlit) (2.2.3)\n",
      "Requirement already satisfied: pillow<12,>=7.1.0 in c:\\users\\projectsupport\\documents\\david\\cursos\\proyecto bicimad\\.venv\\lib\\site-packages (from streamlit) (11.2.1)\n",
      "Requirement already satisfied: protobuf<7,>=3.20 in c:\\users\\projectsupport\\documents\\david\\cursos\\proyecto bicimad\\.venv\\lib\\site-packages (from streamlit) (6.31.1)\n",
      "Requirement already satisfied: pyarrow>=7.0 in c:\\users\\projectsupport\\documents\\david\\cursos\\proyecto bicimad\\.venv\\lib\\site-packages (from streamlit) (20.0.0)\n",
      "Requirement already satisfied: requests<3,>=2.27 in c:\\users\\projectsupport\\documents\\david\\cursos\\proyecto bicimad\\.venv\\lib\\site-packages (from streamlit) (2.32.3)\n",
      "Requirement already satisfied: tenacity<10,>=8.1.0 in c:\\users\\projectsupport\\documents\\david\\cursos\\proyecto bicimad\\.venv\\lib\\site-packages (from streamlit) (9.1.2)\n",
      "Requirement already satisfied: toml<2,>=0.10.1 in c:\\users\\projectsupport\\documents\\david\\cursos\\proyecto bicimad\\.venv\\lib\\site-packages (from streamlit) (0.10.2)\n",
      "Requirement already satisfied: typing-extensions<5,>=4.4.0 in c:\\users\\projectsupport\\documents\\david\\cursos\\proyecto bicimad\\.venv\\lib\\site-packages (from streamlit) (4.13.2)\n",
      "Requirement already satisfied: watchdog<7,>=2.1.5 in c:\\users\\projectsupport\\documents\\david\\cursos\\proyecto bicimad\\.venv\\lib\\site-packages (from streamlit) (6.0.0)\n",
      "Requirement already satisfied: gitpython!=3.1.19,<4,>=3.0.7 in c:\\users\\projectsupport\\documents\\david\\cursos\\proyecto bicimad\\.venv\\lib\\site-packages (from streamlit) (3.1.44)\n",
      "Requirement already satisfied: pydeck<1,>=0.8.0b4 in c:\\users\\projectsupport\\documents\\david\\cursos\\proyecto bicimad\\.venv\\lib\\site-packages (from streamlit) (0.9.1)\n",
      "Requirement already satisfied: tornado<7,>=6.0.3 in c:\\users\\projectsupport\\documents\\david\\cursos\\proyecto bicimad\\.venv\\lib\\site-packages (from streamlit) (6.5.1)\n",
      "Requirement already satisfied: jinja2 in c:\\users\\projectsupport\\documents\\david\\cursos\\proyecto bicimad\\.venv\\lib\\site-packages (from altair<6,>=4.0->streamlit) (3.1.6)\n",
      "Requirement already satisfied: jsonschema>=3.0 in c:\\users\\projectsupport\\documents\\david\\cursos\\proyecto bicimad\\.venv\\lib\\site-packages (from altair<6,>=4.0->streamlit) (4.24.0)\n",
      "Requirement already satisfied: narwhals>=1.14.2 in c:\\users\\projectsupport\\documents\\david\\cursos\\proyecto bicimad\\.venv\\lib\\site-packages (from altair<6,>=4.0->streamlit) (1.41.0)\n",
      "Requirement already satisfied: colorama in c:\\users\\projectsupport\\documents\\david\\cursos\\proyecto bicimad\\.venv\\lib\\site-packages (from click<9,>=7.0->streamlit) (0.4.6)\n",
      "Requirement already satisfied: gitdb<5,>=4.0.1 in c:\\users\\projectsupport\\documents\\david\\cursos\\proyecto bicimad\\.venv\\lib\\site-packages (from gitpython!=3.1.19,<4,>=3.0.7->streamlit) (4.0.12)\n",
      "Requirement already satisfied: smmap<6,>=3.0.1 in c:\\users\\projectsupport\\documents\\david\\cursos\\proyecto bicimad\\.venv\\lib\\site-packages (from gitdb<5,>=4.0.1->gitpython!=3.1.19,<4,>=3.0.7->streamlit) (5.0.2)\n",
      "Requirement already satisfied: python-dateutil>=2.8.2 in c:\\users\\projectsupport\\documents\\david\\cursos\\proyecto bicimad\\.venv\\lib\\site-packages (from pandas<3,>=1.4.0->streamlit) (2.9.0.post0)\n",
      "Requirement already satisfied: pytz>=2020.1 in c:\\users\\projectsupport\\documents\\david\\cursos\\proyecto bicimad\\.venv\\lib\\site-packages (from pandas<3,>=1.4.0->streamlit) (2025.2)\n",
      "Requirement already satisfied: tzdata>=2022.7 in c:\\users\\projectsupport\\documents\\david\\cursos\\proyecto bicimad\\.venv\\lib\\site-packages (from pandas<3,>=1.4.0->streamlit) (2025.2)\n",
      "Requirement already satisfied: charset-normalizer<4,>=2 in c:\\users\\projectsupport\\documents\\david\\cursos\\proyecto bicimad\\.venv\\lib\\site-packages (from requests<3,>=2.27->streamlit) (3.4.2)\n",
      "Requirement already satisfied: idna<4,>=2.5 in c:\\users\\projectsupport\\documents\\david\\cursos\\proyecto bicimad\\.venv\\lib\\site-packages (from requests<3,>=2.27->streamlit) (3.10)\n",
      "Requirement already satisfied: urllib3<3,>=1.21.1 in c:\\users\\projectsupport\\documents\\david\\cursos\\proyecto bicimad\\.venv\\lib\\site-packages (from requests<3,>=2.27->streamlit) (2.4.0)\n",
      "Requirement already satisfied: certifi>=2017.4.17 in c:\\users\\projectsupport\\documents\\david\\cursos\\proyecto bicimad\\.venv\\lib\\site-packages (from requests<3,>=2.27->streamlit) (2025.4.26)\n",
      "Requirement already satisfied: MarkupSafe>=2.0 in c:\\users\\projectsupport\\documents\\david\\cursos\\proyecto bicimad\\.venv\\lib\\site-packages (from jinja2->altair<6,>=4.0->streamlit) (3.0.2)\n",
      "Requirement already satisfied: attrs>=22.2.0 in c:\\users\\projectsupport\\documents\\david\\cursos\\proyecto bicimad\\.venv\\lib\\site-packages (from jsonschema>=3.0->altair<6,>=4.0->streamlit) (25.3.0)\n",
      "Requirement already satisfied: jsonschema-specifications>=2023.03.6 in c:\\users\\projectsupport\\documents\\david\\cursos\\proyecto bicimad\\.venv\\lib\\site-packages (from jsonschema>=3.0->altair<6,>=4.0->streamlit) (2025.4.1)\n",
      "Requirement already satisfied: referencing>=0.28.4 in c:\\users\\projectsupport\\documents\\david\\cursos\\proyecto bicimad\\.venv\\lib\\site-packages (from jsonschema>=3.0->altair<6,>=4.0->streamlit) (0.36.2)\n",
      "Requirement already satisfied: rpds-py>=0.7.1 in c:\\users\\projectsupport\\documents\\david\\cursos\\proyecto bicimad\\.venv\\lib\\site-packages (from jsonschema>=3.0->altair<6,>=4.0->streamlit) (0.25.1)\n",
      "Requirement already satisfied: six>=1.5 in c:\\users\\projectsupport\\documents\\david\\cursos\\proyecto bicimad\\.venv\\lib\\site-packages (from python-dateutil>=2.8.2->pandas<3,>=1.4.0->streamlit) (1.17.0)\n"
     ]
    }
   ],
   "source": [
    "! pip install --upgrade streamlit"
   ]
  },
  {
   "cell_type": "code",
   "execution_count": 1,
   "id": "3bae04aa",
   "metadata": {},
   "outputs": [
    {
     "name": "stdout",
     "output_type": "stream",
     "text": [
      "3\n"
     ]
    }
   ],
   "source": [
    "a=1\n",
    "b=2\n",
    "\n",
    "c = a+b\n",
    "print(c)"
   ]
  }
 ],
 "metadata": {
  "kernelspec": {
   "display_name": ".venv",
   "language": "python",
   "name": "python3"
  },
  "language_info": {
   "codemirror_mode": {
    "name": "ipython",
    "version": 3
   },
   "file_extension": ".py",
   "mimetype": "text/x-python",
   "name": "python",
   "nbconvert_exporter": "python",
   "pygments_lexer": "ipython3",
   "version": "3.12.4"
  }
 },
 "nbformat": 4,
 "nbformat_minor": 5
}
